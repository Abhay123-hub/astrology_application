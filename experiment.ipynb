{
 "cells": [
  {
   "cell_type": "code",
   "execution_count": null,
   "id": "2bbb0178",
   "metadata": {},
   "outputs": [],
   "source": [
    "from __future__ import annotations\n",
    "from typing import Dict, List, Optional, TypedDict\n",
    "from pydantic import BaseModel, Field\n",
    "from langchain_openai import ChatOpenAI, OpenAIEmbeddings\n",
    "from langchain_community.vectorstores import Chroma\n",
    "from langchain.text_splitter import RecursiveCharacterTextSplitter\n",
    "from langchain.prompts import PromptTemplate\n",
    "from langgraph.graph import StateGraph, END\n",
    "from dotenv import load_dotenv\n",
    "from langchain_community.document_loaders import DirectoryLoader,PyPDFLoader\n",
    "import json"
   ]
  },
  {
   "cell_type": "code",
   "execution_count": 2,
   "id": "f6560cfc",
   "metadata": {},
   "outputs": [
    {
     "data": {
      "text/plain": [
       "True"
      ]
     },
     "execution_count": 2,
     "metadata": {},
     "output_type": "execute_result"
    }
   ],
   "source": [
    "load_dotenv() ## activating up all the secret variables"
   ]
  },
  {
   "cell_type": "code",
   "execution_count": 3,
   "id": "b400f9c4",
   "metadata": {},
   "outputs": [],
   "source": [
    "class AstroData_Pydantic(BaseModel):\n",
    "    chart_summary: str = Field(..., description=\"High-level chart summary\")\n",
    "    planetary_positions: Dict[str, str] = Field(..., description=\"Planet→position (sign/house/degree)\")\n",
    "    dashas: Dict[str, str] = Field(..., description=\"Mahadasha/Antardasha/pratyantar info\")\n",
    "    yogas_doshas: List[str] = Field(default_factory=list, description=\"Yogas & Doshas present\")\n",
    "    user_question: str = Field(..., description=\"User's question\")"
   ]
  },
  {
   "cell_type": "code",
   "execution_count": 4,
   "id": "e922f6be",
   "metadata": {},
   "outputs": [],
   "source": [
    "from typing import TypedDict, Dict, List\n",
    "\n",
    "class AstroData_Typed(TypedDict):\n",
    "    \"\"\"Structured astrology data returned from the LLM\"\"\"\n",
    "    \n",
    "    chart_summary: str  # Overall summary of the user's birth chart\n",
    "    planetary_positions: Dict[str, str]  # Planetary positions like Sun, Moon, Mars etc.\n",
    "    dashas: Dict[str, str]  # Current Mahadasha, Antardasha and other dasha periods\n",
    "    yogas_doshas: List[str]  # Important yogas and doshas found in the chart\n",
    "    user_question: str  # User's question asked to the astrologer"
   ]
  },
  {
   "cell_type": "code",
   "execution_count": 5,
   "id": "2cdae7b4",
   "metadata": {},
   "outputs": [],
   "source": [
    "class IntentSpec_Pydantic(BaseModel):\n",
    "    topic: str = Field(..., description=\"Main area: career/marriage/health/finance/spirituality/other\")\n",
    "    timeframe: Optional[str] = Field(None, description=\"Explicit time window, if any\")\n",
    "    focus_houses: List[str] = Field(default_factory=list, description=\"Houses to consider (e.g., ['10th','6th'])\")\n",
    "    focus_planets: List[str] = Field(default_factory=list, description=\"Planets to consider\")\n",
    "    relevant_dasha: Optional[str] = Field(None, description=\"Mahadasha/Antardasha to focus on if implied\")\n"
   ]
  },
  {
   "cell_type": "code",
   "execution_count": 6,
   "id": "8a147f99",
   "metadata": {},
   "outputs": [],
   "source": [
    "class IntentSpec_Typed(TypedDict, total=False):\n",
    "    \"\"\"User's intent specification for astrology question\"\"\"\n",
    "    \n",
    "    topic: str  # Main area: career/marriage/health/finance/spirituality/other\n",
    "    timeframe: Optional[str]  # Explicit time window, if any\n",
    "    focus_houses: List[str]  # Houses to consider (e.g., ['10th','6th'])\n",
    "    focus_planets: List[str]  # Planets to consider\n",
    "    relevant_dasha: Optional[str]  # Mahadasha/Antardasha to focus on if implied"
   ]
  },
  {
   "cell_type": "code",
   "execution_count": 7,
   "id": "85800db9",
   "metadata": {},
   "outputs": [],
   "source": [
    "class GraphState(TypedDict):\n",
    "    # inputs\n",
    "    name: str\n",
    "    dob: str\n",
    "    tob: str\n",
    "    place: str\n",
    "    question: str\n",
    "    # intermediate\n",
    "    astro_data: Optional[AstroData_Pydantic]\n",
    "    intent: Optional[IntentSpec_Pydantic]\n",
    "    rag_query: Optional[str]\n",
    "    context_docs: Optional[List[dict]]  # store docs (page_content + metadata)\n",
    "    # output\n",
    "    answer: Optional[str]"
   ]
  },
  {
   "cell_type": "code",
   "execution_count": 8,
   "id": "8aa49339",
   "metadata": {},
   "outputs": [],
   "source": [
    "# LLMs\n",
    "llm_json = ChatOpenAI(model=\"gpt-4o-mini\", temperature=0)            \n",
    "llm_synth = ChatOpenAI(model=\"gpt-4o-mini\", temperature=0.2)         "
   ]
  },
  {
   "cell_type": "code",
   "execution_count": 9,
   "id": "c7fad838",
   "metadata": {},
   "outputs": [],
   "source": [
    "def build_retriever():\n",
    "    loader = PyPDFLoader(\"directory\\BPHS - 1 RSanthanam.pdf\")\n",
    "    docs = loader.load()\n",
    "\n",
    "    splitter = RecursiveCharacterTextSplitter(chunk_size=1200, chunk_overlap=150)\n",
    "    chunks = splitter.split_documents(docs)\n",
    "\n",
    "    vs = Chroma.from_documents(\n",
    "        documents=chunks,\n",
    "        embedding=OpenAIEmbeddings(model=\"text-embedding-3-large\"),\n",
    "        collection_name=\"jyotish_rag\"\n",
    "    )\n",
    "    return vs.as_retriever(search_kwargs={\"k\": 5})"
   ]
  },
  {
   "cell_type": "code",
   "execution_count": 10,
   "id": "e5826efd",
   "metadata": {},
   "outputs": [],
   "source": [
    "retriever = build_retriever()"
   ]
  },
  {
   "cell_type": "code",
   "execution_count": 11,
   "id": "6aac493e",
   "metadata": {},
   "outputs": [],
   "source": [
    "astro_extraction_prompt = PromptTemplate.from_template(\"\"\"\n",
    "You are an expert Indian Vedic astrologer.\n",
    "Analyze ONLY using classical jyotish logic (no modern/Western rules).\n",
    "Return a STRICT JSON following this schema keys:\n",
    "- chart_summary (string)\n",
    "- planetary_positions (object of planet->'sign degree house' string)\n",
    "- dashas (object with keys like current_mahadasha, current_antardasha, pratyantar if known)\n",
    "- yogas_doshas (array of strings)\n",
    "- user_question (string, echo exactly)\n",
    "\n",
    "Birth Details:\n",
    "- Name: {name}\n",
    "- Date of Birth: {dob}\n",
    "- Time of Birth: {tob}\n",
    "- Place of Birth: {place}\n",
    "\n",
    "User Question: {question}\n",
    "\n",
    "Output JSON ONLY. No extra commentary.\n",
    "\"\"\")"
   ]
  },
  {
   "cell_type": "code",
   "execution_count": 12,
   "id": "fdf28c9e",
   "metadata": {},
   "outputs": [],
   "source": [
    "intent_prompt = PromptTemplate.from_template(\"\"\"\n",
    "You are an intent parser for Vedic-astrology questions.\n",
    "From the user's question and the astro summary, extract a compact plan.\n",
    "\n",
    "Return JSON with keys:\n",
    "- topic: one of [\"career\",\"marriage\",\"health\",\"finance\",\"children\",\"education\",\"property\",\"spirituality\",\"travel\",\"other\"]\n",
    "- timeframe: brief phrase if mentioned (e.g., \"next 2 years\") else null\n",
    "- focus_houses: array of house numbers as strings (e.g., [\"10th\",\"6th\",\"2nd\"])\n",
    "- focus_planets: array of planet names to check (e.g., [\"Saturn\",\"Mercury\",\"Sun\"])\n",
    "- relevant_dasha: if the question/time suggests a specific Mahadasha/Antardasha focus, put \"Saturn Mahadasha - Mercury Antardasha\", else null\n",
    "\n",
    "Context (short):\n",
    "{astro_bullet}\n",
    "Question: {question}\n",
    "\n",
    "JSON ONLY.\n",
    "\"\"\")"
   ]
  },
  {
   "cell_type": "code",
   "execution_count": 13,
   "id": "7ed52aa2",
   "metadata": {},
   "outputs": [
    {
     "name": "stdout",
     "output_type": "stream",
     "text": [
      "{'chart_summary': 'Abhay is born with a strong influence of Mars and Jupiter in his chart, indicating a dynamic personality with leadership qualities. The presence of benefic planets in key houses suggests a favorable life path, though challenges may arise from malefic influences.', 'planetary_positions': {'Sun': 'Aries 20° 1st', 'Moon': 'Pisces 15° 12th', 'Mars': 'Aries 10° 1st', 'Mercury': 'Pisces 5° 12th', 'Jupiter': 'Aries 25° 1st', 'Venus': 'Taurus 0° 2nd', 'Saturn': 'Sagittarius 15° 7th', 'Rahu': 'Aries 18° 1st', 'Ketu': 'Libra 18° 7th'}, 'dashas': {'current_mahadasha': 'Jupiter', 'current_antardasha': 'Mercury', 'pratyantar': 'N/A'}, 'yogas_doshas': ['Dhan Yoga', 'Chandra-Mangal Dhan Yoga', 'Raj Yoga'], 'user_question': 'question'}\n",
      "<class 'dict'>\n"
     ]
    }
   ],
   "source": [
    "llm_structured_output = llm_json.with_structured_output(AstroData_Typed)\n",
    "prompt  = astro_extraction_prompt.invoke({\"name\":\"abhay\",\"dob\":\"4/4/1987\",\"tob\":\"6:00\",\"place\":\"Shimla,HP,India\",\"question\":\"question\"})\n",
    "response = llm_structured_output.invoke(prompt)\n",
    "print(response)\n",
    "print(type(response))"
   ]
  },
  {
   "cell_type": "code",
   "execution_count": 14,
   "id": "588629d0",
   "metadata": {},
   "outputs": [],
   "source": [
    "response2 = AstroData_Pydantic(**response)"
   ]
  },
  {
   "cell_type": "code",
   "execution_count": 15,
   "id": "9a6040a6",
   "metadata": {},
   "outputs": [
    {
     "data": {
      "text/plain": [
       "{'Sun': 'Aries 20° 1st',\n",
       " 'Moon': 'Pisces 15° 12th',\n",
       " 'Mars': 'Aries 10° 1st',\n",
       " 'Mercury': 'Pisces 5° 12th',\n",
       " 'Jupiter': 'Aries 25° 1st',\n",
       " 'Venus': 'Taurus 0° 2nd',\n",
       " 'Saturn': 'Sagittarius 15° 7th',\n",
       " 'Rahu': 'Aries 18° 1st',\n",
       " 'Ketu': 'Libra 18° 7th'}"
      ]
     },
     "execution_count": 15,
     "metadata": {},
     "output_type": "execute_result"
    }
   ],
   "source": [
    "response2.planetary_positions"
   ]
  },
  {
   "cell_type": "code",
   "execution_count": 16,
   "id": "84c31ba2",
   "metadata": {},
   "outputs": [],
   "source": [
    "synthesis_prompt = PromptTemplate.from_template(\"\"\"\n",
    "You are a Vedic astrology assistant restricted to the provided sources.\n",
    "Use ONLY the context below to justify interpretations. If you cannot find a rule in the context, say:\n",
    "\"This is beyond the given reference books.\"\n",
    "\n",
    "User Chart (brief):\n",
    "{astro_bullet}\n",
    "\n",
    "User Intent:\n",
    "{intent_bullet}\n",
    "\n",
    "Question: {question}\n",
    "\n",
    "Context (authoritative excerpts):\n",
    "{context}\n",
    "\n",
    "Now write a clear, structured answer:\n",
    "1) Short verdict\n",
    "2) Reasoning (link houses/planets/dashas)\n",
    "3) Citations → [Book, page/section] for each major claim\n",
    "4) If needed, gentle caveats\n",
    "\n",
    "Please note that you should respond to user in way like ,you will get job in this month,you will get this .Try to communicate with user.Not just send details to user\n",
    "\"\"\")"
   ]
  },
  {
   "cell_type": "code",
   "execution_count": 17,
   "id": "eb862ab5",
   "metadata": {},
   "outputs": [],
   "source": [
    "def astro_to_bullets(a: AstroData_Pydantic) -> str:\n",
    "    \n",
    "    pos = \", \".join(f\"{k}:{v}\" for k,v in a.planetary_positions.items())\n",
    "    dasha = \"; \".join(f\"{k}:{v}\" for k,v in a.dashas.items())\n",
    "    yogas = \", \".join(a.yogas_doshas) if a.yogas_doshas else \"None\"\n",
    "    return (\n",
    "        f\"Summary: {a.chart_summary}\\n\"\n",
    "        f\"Positions: {pos}\\n\"\n",
    "        f\"Dashas: {dasha}\\n\"\n",
    "        f\"Yogas/Doshas: {yogas}\"\n",
    "    )"
   ]
  },
  {
   "cell_type": "code",
   "execution_count": 18,
   "id": "9a04d1f8",
   "metadata": {},
   "outputs": [],
   "source": [
    "def intent_to_bullets(i: IntentSpec_Pydantic) -> str:\n",
    "    return (\n",
    "        f\"Topic: {i.topic}; Timeframe: {i.timeframe or 'N/A'}; \"\n",
    "        f\"Houses: {', '.join(i.focus_houses) or 'N/A'}; \"\n",
    "        f\"Planets: {', '.join(i.focus_planets) or 'N/A'}; \"\n",
    "        f\"Relevant Dasha: {i.relevant_dasha or 'N/A'}\"\n",
    "    )"
   ]
  },
  {
   "cell_type": "code",
   "execution_count": 19,
   "id": "0c81fae2",
   "metadata": {},
   "outputs": [],
   "source": [
    "def build_rag_query(astro: AstroData_Pydantic, intent: IntentSpec_Pydantic) -> str:\n",
    "    # Focused query terms for retrieval\n",
    "    keys = []\n",
    "    if intent.focus_houses: keys.append(\"houses: \" + \", \".join(intent.focus_houses))\n",
    "    if intent.focus_planets: keys.append(\"planets: \" + \", \".join(intent.focus_planets))\n",
    "    if intent.relevant_dasha: keys.append(\"dasha: \" + intent.relevant_dasha)\n",
    "    keys.append(\"topic: \" + intent.topic)\n",
    "    keys.append(\"question: \" + astro.user_question)\n",
    "    return \" | \".join(keys)"
   ]
  },
  {
   "cell_type": "code",
   "execution_count": 20,
   "id": "5ded742c",
   "metadata": {},
   "outputs": [],
   "source": [
    "# Node A1: Expand birth details -> AstroData\n",
    "def node_extract_astro(state: GraphState) -> GraphState:\n",
    "    filled = astro_extraction_prompt.format(\n",
    "        name=state[\"name\"], dob=state[\"dob\"], tob=state[\"tob\"], place=state[\"place\"],\n",
    "        question=state[\"question\"]\n",
    "    )\n",
    "    # raw = llm_json.invoke(filled).content\n",
    "    # data = json.loads(raw)  # trust because we asked JSON-only\n",
    "    llm_structured = llm_json.with_structured_output(AstroData_Typed)\n",
    "    data = llm_structured.invoke(filled)\n",
    "    state[\"astro_data\"] = AstroData_Pydantic(**data)\n",
    "    return state"
   ]
  },
  {
   "cell_type": "code",
   "execution_count": 21,
   "id": "845c46f4",
   "metadata": {},
   "outputs": [],
   "source": [
    "def node_intent(state: GraphState) -> GraphState:\n",
    "    astro_bul = astro_to_bullets(state[\"astro_data\"])\n",
    "    filled = intent_prompt.format(astro_bullet=astro_bul, question=state[\"question\"])\n",
    "    # raw = llm_json.invoke(filled).content\n",
    "    # intent = IntentSpec(**json.loads(raw))\n",
    "    llm_structured = llm_json.with_structured_output(IntentSpec_Typed)\n",
    "    intent = llm_structured.invoke(filled)\n",
    "    state[\"intent\"] = IntentSpec_Pydantic(**intent)\n",
    "    return state"
   ]
  },
  {
   "cell_type": "code",
   "execution_count": 22,
   "id": "25291f92",
   "metadata": {},
   "outputs": [],
   "source": [
    "def node_retrieve(state: GraphState) -> GraphState:\n",
    "    rq = build_rag_query(state[\"astro_data\"], state[\"intent\"])\n",
    "    docs = retriever.invoke(rq)\n",
    "    # store minimal context (content + citation)\n",
    "    ctx = []\n",
    "    for d in docs:\n",
    "        meta = d.metadata or {}\n",
    "        src = meta.get(\"source\",\"unknown\")\n",
    "        page = meta.get(\"page\", \"n/a\")\n",
    "        ctx.append({\"text\": d.page_content, \"source\": src, \"page\": page})\n",
    "    state[\"rag_query\"] = rq\n",
    "    state[\"context_docs\"] = ctx\n",
    "    return state"
   ]
  },
  {
   "cell_type": "code",
   "execution_count": 23,
   "id": "f00cd772",
   "metadata": {},
   "outputs": [],
   "source": [
    "def node_synthesize(state: GraphState) -> GraphState:\n",
    "    astro_bul = astro_to_bullets(state[\"astro_data\"])\n",
    "    intent_bul = intent_to_bullets(state[\"intent\"])\n",
    "    # format context with inline citations\n",
    "    ctx_str = \"\\n\\n\".join(\n",
    "        f\"[{i+1}] ({c['source']} p.{c['page']})\\n{c['text'][:1500]}\"\n",
    "        for i,c in enumerate(state[\"context_docs\"] or [])\n",
    "    )\n",
    "    filled = synthesis_prompt.format(\n",
    "        astro_bullet=astro_bul,\n",
    "        intent_bullet=intent_bul,\n",
    "        question=state[\"question\"],\n",
    "        context=ctx_str\n",
    "    )\n",
    "    out = llm_synth.invoke(filled).content\n",
    "    state[\"answer\"] = out\n",
    "    return state"
   ]
  },
  {
   "cell_type": "code",
   "execution_count": 24,
   "id": "d0dd9ef1",
   "metadata": {},
   "outputs": [],
   "source": [
    "# Build graph\n",
    "graph = StateGraph(GraphState)\n",
    "graph.add_node(\"extract_astro\", node_extract_astro)\n",
    "graph.add_node(\"intent\", node_intent)\n",
    "graph.add_node(\"retrieve\", node_retrieve)\n",
    "graph.add_node(\"synthesize\", node_synthesize)\n",
    "\n",
    "graph.set_entry_point(\"extract_astro\")\n",
    "graph.add_edge(\"extract_astro\", \"intent\")\n",
    "graph.add_edge(\"intent\", \"retrieve\")\n",
    "graph.add_edge(\"retrieve\", \"synthesize\")\n",
    "graph.add_edge(\"synthesize\", END)\n",
    "\n",
    "app = graph.compile()"
   ]
  },
  {
   "cell_type": "code",
   "execution_count": 25,
   "id": "6a71e093",
   "metadata": {},
   "outputs": [
    {
     "data": {
      "image/png": "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",
      "text/plain": [
       "<IPython.core.display.Image object>"
      ]
     },
     "metadata": {},
     "output_type": "display_data"
    }
   ],
   "source": [
    "# Display the graph\n",
    "from IPython.display import Image, display # type: ignore\n",
    "display(Image(app.get_graph(xray=True).draw_mermaid_png()))"
   ]
  },
  {
   "cell_type": "code",
   "execution_count": null,
   "id": "324013a7",
   "metadata": {},
   "outputs": [],
   "source": [
    "inputs: GraphState = {\n",
<<<<<<< HEAD
    "    \"name\": \"lukky\",\n",
    "    \"dob\": \"2011-06-06\",\n",
    "    \"tob\": \"20:00\",\n",
    "    \"place\": \"Hamirpur, Himachal Pradesh, India\",\n",
=======
    "    \"name\": \"Lukky\",\n",
    "    \"dob\": \"1947-06-06\",\n",
    "    \"tob\": \"10:00\",\n",
    "    \"place\": \"Bilaspur, Himachal Pradesh, India\",\n",
>>>>>>> 5c5fa8a2ea0eba16662ae4006c9f3103fa1ab5ed
    "    \"question\": \"Tell me how will be my love partner?\",\n",
    "    \"astro_data\": None,\n",
    "    \"intent\": None,\n",
    "    \"rag_query\": None,\n",
    "    \"context_docs\": None,\n",
    "    \"answer\": None\n",
    "}"
   ]
  },
  {
   "cell_type": "code",
   "execution_count": 29,
   "id": "100ffc81",
   "metadata": {},
   "outputs": [
    {
     "name": "stdout",
     "output_type": "stream",
     "text": [
      "=== FINAL ANSWER ===\n",
      " 1) **Short Verdict**: Your love partner is likely to be supportive, emotionally connected, and possess qualities that enhance stability and harmony in your relationship.\n",
      "\n",
      "2) **Reasoning**: \n",
      "   - The presence of benefic planets such as Jupiter and Venus in your 7th house indicates a partner who is not only supportive but also brings joy and prosperity into your life. Jupiter in the 7th house suggests that your spouse will be virtuous and may help expand your family, while Venus indicates a partner who is sensuous and values emotional intimacy.\n",
      "   - Additionally, the strong placements of the Moon and Mercury in your chart suggest that your partner will be emotionally intelligent and possibly skilled in arts or communication, enhancing the overall connection between you two.\n",
      "   - The Chandra-Mangal Dhan Yoga and Raj Yoga formed by Jupiter and Venus further emphasize the potential for a harmonious and prosperous relationship.\n",
      "\n",
      "3) **Citations**:\n",
      "   - Jupiter in the 7th house indicates a beautiful and virtuous spouse [2, p.331].\n",
      "   - Venus in the 7th house denotes a sensuous partner [2, p.331].\n",
      "   - The combination of benefic planets in key houses supports a harmonious relationship [4, p.160].\n",
      "\n",
      "4) **Gentle Caveats**: While the planetary positions are favorable, it is essential to remain open and communicative in your relationship to fully realize the potential of these positive influences. Relationships require effort and understanding from both partners to thrive.\n",
      "\n",
      "=== DEBUG ===\n",
      "RAG Query: houses: 5th, 7th | planets: Venus, Jupiter, Moon | topic: marriage | question: Tell me how will be my love partner?\n",
      "Citations: [('directory\\\\BPHS - 1 RSanthanam.pdf', 160), ('directory\\\\BPHS - 1 RSanthanam.pdf', 331), ('directory\\\\BPHS - 1 RSanthanam.pdf', 162), ('directory\\\\BPHS - 1 RSanthanam.pdf', 159), ('directory\\\\BPHS - 1 RSanthanam.pdf', 160)]\n"
     ]
    }
   ],
   "source": [
    "result = app.invoke(inputs)\n",
    "print(\"=== FINAL ANSWER ===\\n\", result[\"answer\"])\n",
    "print(\"\\n=== DEBUG ===\")\n",
    "print(\"RAG Query:\", result[\"rag_query\"])\n",
    "print(\"Citations:\", [(c[\"source\"], c[\"page\"]) for c in result[\"context_docs\"]])"
   ]
  },
  {
   "cell_type": "code",
   "execution_count": null,
   "id": "fc54dcb0",
   "metadata": {},
   "outputs": [],
   "source": []
  },
  {
   "cell_type": "code",
   "execution_count": null,
   "id": "e764a9bb",
   "metadata": {},
   "outputs": [],
   "source": []
  },
  {
   "cell_type": "code",
   "execution_count": null,
   "id": "856b48d3",
   "metadata": {},
   "outputs": [],
   "source": []
  },
  {
   "cell_type": "code",
   "execution_count": null,
   "id": "594f4a4b",
   "metadata": {},
   "outputs": [],
   "source": []
  }
 ],
 "metadata": {
  "kernelspec": {
   "display_name": "venv",
   "language": "python",
   "name": "python3"
  },
  "language_info": {
   "codemirror_mode": {
    "name": "ipython",
    "version": 3
   },
   "file_extension": ".py",
   "mimetype": "text/x-python",
   "name": "python",
   "nbconvert_exporter": "python",
   "pygments_lexer": "ipython3",
   "version": "3.10.0"
  }
 },
 "nbformat": 4,
 "nbformat_minor": 5
}
